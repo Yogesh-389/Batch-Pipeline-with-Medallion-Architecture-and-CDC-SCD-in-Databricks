{
 "cells": [
  {
   "cell_type": "markdown",
   "metadata": {
    "application/vnd.databricks.v1+cell": {
     "cellMetadata": {
      "byteLimit": 2048000,
      "rowLimit": 10000
     },
     "inputWidgets": {},
     "nuid": "eb1e652c-bfd3-433e-9e47-49a315730f00",
     "showTitle": false,
     "title": ""
    }
   },
   "source": [
    "#### Creating raw tables and using autoloader to load the data from the landing_zone"
   ]
  },
  {
   "cell_type": "markdown",
   "metadata": {
    "application/vnd.databricks.v1+cell": {
     "cellMetadata": {},
     "inputWidgets": {},
     "nuid": "8fe7a5e7-d632-45cc-aa61-f2a53312da5d",
     "showTitle": false,
     "title": ""
    }
   },
   "source": [
    "#### Reading the data from landing zone and saving it to the bronze layer table\n"
   ]
  },
  {
   "cell_type": "code",
   "execution_count": 0,
   "metadata": {
    "application/vnd.databricks.v1+cell": {
     "cellMetadata": {
      "byteLimit": 2048000,
      "rowLimit": 10000
     },
     "inputWidgets": {},
     "nuid": "6c604f77-7bb3-4111-b219-765879d857e1",
     "showTitle": false,
     "title": ""
    }
   },
   "outputs": [
    {
     "output_type": "stream",
     "name": "stdout",
     "output_type": "stream",
     "text": [
      "+----------+------------+--------------------+\n|CustomerID|CustomerName|           load_time|\n+----------+------------+--------------------+\n|     16029|   Katherina|2024-02-27 05:37:...|\n|     16098|    Lisandra|2024-02-27 05:37:...|\n|     16244|      Lizeth|2024-02-27 05:37:...|\n|     16250|       Neida|2024-02-27 05:37:...|\n|     17420|     Nereida|2024-02-27 05:37:...|\n|     17511|      Olinda|2024-02-27 05:37:...|\n|     17809|     Pamella|2024-02-27 05:37:...|\n|     17841|   Petronila|2024-02-27 05:37:...|\n|     17850|     Sharika|2024-02-27 05:37:...|\n|     18041|        NULL|2024-02-27 05:37:...|\n+----------+------------+--------------------+\nonly showing top 10 rows\n\n"
     ]
    }
   ],
   "source": [
    "%python\n",
    "from pyspark.sql.functions import current_timestamp\n",
    "#Read the data from landing zone into the dataframe and write it as table in the bronze layer..\n",
    "\n",
    "customer_raw_df = spark.read.format('csv')\\\n",
    "                        .option('header', True)\\\n",
    "                        .option('inferSchema',True)\\\n",
    "                        .load(\"/Volumes/dev/demo_db/landing_zone/customers\")\\\n",
    "                        .withColumn('load_time', current_timestamp())\n",
    "customer_raw_df.show(10)\n",
    "customer_raw_df.write \\\n",
    "    .format(\"delta\") \\\n",
    "    .partitionBy(\"load_time\") \\\n",
    "    .mode(\"append\") \\\n",
    "    .saveAsTable(\"dev.bronze_db.customer_raw\")\n",
    "\n",
    "\n"
   ]
  },
  {
   "cell_type": "code",
   "execution_count": 0,
   "metadata": {
    "application/vnd.databricks.v1+cell": {
     "cellMetadata": {
      "byteLimit": 2048000,
      "rowLimit": 10000
     },
     "inputWidgets": {},
     "nuid": "519dcf1b-8050-40c8-ab6f-e793774af5a8",
     "showTitle": false,
     "title": ""
    }
   },
   "outputs": [
    {
     "output_type": "stream",
     "name": "stdout",
     "output_type": "stream",
     "text": [
      "+---------+---------+--------------------+--------+----------------+---------+----------+--------------+--------------------+\n|InvoiceNo|StockCode|         Description|Quantity|     InvoiceDate|UnitPrice|CustomerID|       Country|           load_time|\n+---------+---------+--------------------+--------+----------------+---------+----------+--------------+--------------------+\n|   536627|    22699|ROSES REGENCY TEA...|      12|02-01-2022 10.53|     2.95|     15658|United Kingdom|2024-02-27 05:38:...|\n|   536627|    21755|LOVE BUILDING BLO...|       4|02-01-2022 10.53|     5.95|     15658|United Kingdom|2024-02-27 05:38:...|\n|   536628|   85123A|WHITE HANGING HEA...|       6|07-01-2022 10.54|     2.55|     17850|United Kingdom|2024-02-27 05:38:...|\n|   536628|    71053| WHITE METAL LANTERN|       6|07-01-2022 10.54|     3.39|     17850|United Kingdom|2024-02-27 05:38:...|\n|   536628|   84406B|CREAM CUPID HEART...|       6|07-01-2022 10.54|     2.75|     17850|United Kingdom|2024-02-27 05:38:...|\n|   536628|    37370|RETRO COFFEE MUGS...|       6|07-01-2022 10.54|     1.06|     17850|United Kingdom|2024-02-27 05:38:...|\n|   536628|    21871| SAVE THE PLANET MUG|       6|07-01-2022 10.54|     1.06|     17850|United Kingdom|2024-02-27 05:38:...|\n|   536628|    21071|VINTAGE BILLBOARD...|       6|07-01-2022 10.54|     1.06|     17850|United Kingdom|2024-02-27 05:38:...|\n|   536628|    21068|VINTAGE BILLBOARD...|       6|07-01-2022 10.54|     1.06|     17850|United Kingdom|2024-02-27 05:38:...|\n|   536628|    82483|WOOD 2 DRAWER CAB...|       4|07-01-2022 10.54|     4.95|     17850|United Kingdom|2024-02-27 05:38:...|\n+---------+---------+--------------------+--------+----------------+---------+----------+--------------+--------------------+\nonly showing top 10 rows\n\n"
     ]
    }
   ],
   "source": [
    "%python\n",
    "from pyspark.sql.functions import current_timestamp\n",
    "#Read the data from landing zone into the dataframe and write it as table in the bronze layer..\n",
    "\n",
    "invoice_raw_df = spark.read.format('csv')\\\n",
    "                        .option('header', True)\\\n",
    "                        .option('inferSchema',True)\\\n",
    "                        .load(\"/Volumes/dev/demo_db/landing_zone/invoices\")\\\n",
    "                        .withColumn('load_time', current_timestamp())\n",
    "invoice_raw_df.show(10)\n",
    "invoice_raw_df.write \\\n",
    "    .format(\"delta\") \\\n",
    "    .partitionBy(\"load_time\") \\\n",
    "    .mode(\"append\") \\\n",
    "    .saveAsTable(\"dev.bronze_db.invoice_raw\")\n"
   ]
  },
  {
   "cell_type": "markdown",
   "metadata": {
    "application/vnd.databricks.v1+cell": {
     "cellMetadata": {},
     "inputWidgets": {},
     "nuid": "df87358a-35b3-453d-b4a1-4e4b47840f94",
     "showTitle": false,
     "title": ""
    }
   },
   "source": [
    "#### Reading the data from bronze layer and after cleaning and then saving it to the silver layer table as \"_cleaned\""
   ]
  },
  {
   "cell_type": "code",
   "execution_count": 0,
   "metadata": {
    "application/vnd.databricks.v1+cell": {
     "cellMetadata": {
      "byteLimit": 2048000,
      "rowLimit": 10000
     },
     "inputWidgets": {},
     "nuid": "4844ee41-bf00-49af-825a-11291773d7e6",
     "showTitle": false,
     "title": ""
    }
   },
   "outputs": [
    {
     "output_type": "display_data",
     "data": {
      "text/html": [
       "<style scoped>\n",
       "  .table-result-container {\n",
       "    max-height: 300px;\n",
       "    overflow: auto;\n",
       "  }\n",
       "  table, th, td {\n",
       "    border: 1px solid black;\n",
       "    border-collapse: collapse;\n",
       "  }\n",
       "  th, td {\n",
       "    padding: 5px;\n",
       "  }\n",
       "  th {\n",
       "    text-align: left;\n",
       "  }\n",
       "</style><div class='table-result-container'><table class='table-result'><thead style='background-color: white'><tr><th>num_affected_rows</th><th>num_inserted_rows</th></tr></thead><tbody><tr><td>12</td><td>12</td></tr></tbody></table></div>"
      ]
     },
     "metadata": {
      "application/vnd.databricks.v1+output": {
       "addedWidgets": {},
       "aggData": [],
       "aggError": "",
       "aggOverflow": false,
       "aggSchema": [],
       "aggSeriesLimitReached": false,
       "aggType": "",
       "arguments": {},
       "columnCustomDisplayInfos": {},
       "data": [
        [
         12,
         12
        ]
       ],
       "datasetInfos": [],
       "dbfsResultPath": null,
       "isJsonSchema": true,
       "metadata": {
        "isDbfsCommandResult": false
       },
       "overflow": false,
       "plotOptions": {
        "customPlotOptions": {},
        "displayType": "table",
        "pivotAggregation": null,
        "pivotColumns": null,
        "xColumns": null,
        "yColumns": null
       },
       "removedWidgets": [],
       "schema": [
        {
         "metadata": "{}",
         "name": "num_affected_rows",
         "type": "\"long\""
        },
        {
         "metadata": "{}",
         "name": "num_inserted_rows",
         "type": "\"long\""
        }
       ],
       "type": "table"
      }
     },
     "output_type": "display_data"
    }
   ],
   "source": [
    "%sql\n",
    "\n",
    "INSERT INTO dev.silver_db.customer_cleaned\n",
    "SELECT CustomerId as customer_id, CustomerName as customer_name, load_time\n",
    "from dev.bronze_db.customer_raw\n",
    "WHERE date(load_time)=date(current_timestamp()) AND CustomerID is not NULL AND CustomerName is not NULL\n"
   ]
  },
  {
   "cell_type": "code",
   "execution_count": 0,
   "metadata": {
    "application/vnd.databricks.v1+cell": {
     "cellMetadata": {
      "byteLimit": 2048000,
      "rowLimit": 10000
     },
     "inputWidgets": {},
     "nuid": "805946a8-fd3e-45f3-af97-8a19462d6c4f",
     "showTitle": false,
     "title": ""
    }
   },
   "outputs": [
    {
     "output_type": "display_data",
     "data": {
      "text/html": [
       "<style scoped>\n",
       "  .table-result-container {\n",
       "    max-height: 300px;\n",
       "    overflow: auto;\n",
       "  }\n",
       "  table, th, td {\n",
       "    border: 1px solid black;\n",
       "    border-collapse: collapse;\n",
       "  }\n",
       "  th, td {\n",
       "    padding: 5px;\n",
       "  }\n",
       "  th {\n",
       "    text-align: left;\n",
       "  }\n",
       "</style><div class='table-result-container'><table class='table-result'><thead style='background-color: white'><tr><th>num_affected_rows</th><th>num_inserted_rows</th></tr></thead><tbody><tr><td>258</td><td>258</td></tr></tbody></table></div>"
      ]
     },
     "metadata": {
      "application/vnd.databricks.v1+output": {
       "addedWidgets": {},
       "aggData": [],
       "aggError": "",
       "aggOverflow": false,
       "aggSchema": [],
       "aggSeriesLimitReached": false,
       "aggType": "",
       "arguments": {},
       "columnCustomDisplayInfos": {},
       "data": [
        [
         258,
         258
        ]
       ],
       "datasetInfos": [],
       "dbfsResultPath": null,
       "isJsonSchema": true,
       "metadata": {
        "isDbfsCommandResult": false
       },
       "overflow": false,
       "plotOptions": {
        "customPlotOptions": {},
        "displayType": "table",
        "pivotAggregation": null,
        "pivotColumns": null,
        "xColumns": null,
        "yColumns": null
       },
       "removedWidgets": [],
       "schema": [
        {
         "metadata": "{}",
         "name": "num_affected_rows",
         "type": "\"long\""
        },
        {
         "metadata": "{}",
         "name": "num_inserted_rows",
         "type": "\"long\""
        }
       ],
       "type": "table"
      }
     },
     "output_type": "display_data"
    }
   ],
   "source": [
    "%sql\n",
    "INSERT INTO dev.silver_db.invoice_cleaned\n",
    "SELECT InvoiceNo AS invoice_no,\n",
    "    StockCode AS stock_code,\n",
    "    Description AS description,\n",
    "    Quantity AS quantity,\n",
    "    to_date(InvoiceDate, \"d-M-y H.m\") AS invoice_date,\n",
    "    UnitPrice AS unit_price,\n",
    "    CustomerID AS customer_id,\n",
    "    Country AS country,\n",
    "    load_time\n",
    "from dev.bronze_db.invoice_raw\n",
    "WHERE date(load_time)=date(current_timestamp()) AND InvoiceNo is not NULL AND StockCode is NOT NULL AND quantity > 0\n"
   ]
  },
  {
   "cell_type": "markdown",
   "metadata": {
    "application/vnd.databricks.v1+cell": {
     "cellMetadata": {},
     "inputWidgets": {},
     "nuid": "ccd33d1f-6401-4167-a60b-eb0d65656079",
     "showTitle": false,
     "title": ""
    }
   },
   "source": [
    "#### Reading the data from silver layer \"_cleaned\" tables and do change data capture and then save them into silver layer table --> final tables"
   ]
  },
  {
   "cell_type": "code",
   "execution_count": 0,
   "metadata": {
    "application/vnd.databricks.v1+cell": {
     "cellMetadata": {
      "byteLimit": 2048000,
      "rowLimit": 10000
     },
     "inputWidgets": {},
     "nuid": "a17a5fcd-98fc-48a2-97d3-49da9b12be7c",
     "showTitle": false,
     "title": ""
    }
   },
   "outputs": [
    {
     "output_type": "display_data",
     "data": {
      "text/html": [
       "<style scoped>\n",
       "  .table-result-container {\n",
       "    max-height: 300px;\n",
       "    overflow: auto;\n",
       "  }\n",
       "  table, th, td {\n",
       "    border: 1px solid black;\n",
       "    border-collapse: collapse;\n",
       "  }\n",
       "  th, td {\n",
       "    padding: 5px;\n",
       "  }\n",
       "  th {\n",
       "    text-align: left;\n",
       "  }\n",
       "</style><div class='table-result-container'><table class='table-result'><thead style='background-color: white'><tr><th>num_affected_rows</th><th>num_updated_rows</th><th>num_deleted_rows</th><th>num_inserted_rows</th></tr></thead><tbody><tr><td>2</td><td>2</td><td>0</td><td>0</td></tr></tbody></table></div>"
      ]
     },
     "metadata": {
      "application/vnd.databricks.v1+output": {
       "addedWidgets": {},
       "aggData": [],
       "aggError": "",
       "aggOverflow": false,
       "aggSchema": [],
       "aggSeriesLimitReached": false,
       "aggType": "",
       "arguments": {},
       "columnCustomDisplayInfos": {},
       "data": [
        [
         2,
         2,
         0,
         0
        ]
       ],
       "datasetInfos": [],
       "dbfsResultPath": null,
       "isJsonSchema": true,
       "metadata": {
        "isDbfsCommandResult": false
       },
       "overflow": false,
       "plotOptions": {
        "customPlotOptions": {},
        "displayType": "table",
        "pivotAggregation": null,
        "pivotColumns": null,
        "xColumns": null,
        "yColumns": null
       },
       "removedWidgets": [],
       "schema": [
        {
         "metadata": "{}",
         "name": "num_affected_rows",
         "type": "\"long\""
        },
        {
         "metadata": "{}",
         "name": "num_updated_rows",
         "type": "\"long\""
        },
        {
         "metadata": "{}",
         "name": "num_deleted_rows",
         "type": "\"long\""
        },
        {
         "metadata": "{}",
         "name": "num_inserted_rows",
         "type": "\"long\""
        }
       ],
       "type": "table"
      }
     },
     "output_type": "display_data"
    }
   ],
   "source": [
    "%sql\n",
    "MERGE INTO dev.silver_db.customers targ\n",
    "USING(SELECT * FROM dev.silver_db.customer_cleaned WHERE date(load_time)=date(current_timestamp())) source\n",
    "ON (targ.customer_id=source.customer_id) and (targ.customer_name<>source.customer_name)\n",
    "WHEN MATCHED THEN\n",
    "  UPDATE SET targ.end_timestamp=case when targ.end_timestamp is null THEN current_timestamp() END\n",
    "  , targ.isRecordLatest=case when targ.isRecordLatest = TRUE THEN FALSE END\n"
   ]
  },
  {
   "cell_type": "code",
   "execution_count": 0,
   "metadata": {
    "application/vnd.databricks.v1+cell": {
     "cellMetadata": {
      "byteLimit": 2048000,
      "rowLimit": 10000
     },
     "inputWidgets": {},
     "nuid": "410c739a-2f65-4854-990a-7d33c2323505",
     "showTitle": false,
     "title": ""
    }
   },
   "outputs": [
    {
     "output_type": "display_data",
     "data": {
      "text/html": [
       "<style scoped>\n",
       "  .table-result-container {\n",
       "    max-height: 300px;\n",
       "    overflow: auto;\n",
       "  }\n",
       "  table, th, td {\n",
       "    border: 1px solid black;\n",
       "    border-collapse: collapse;\n",
       "  }\n",
       "  th, td {\n",
       "    padding: 5px;\n",
       "  }\n",
       "  th {\n",
       "    text-align: left;\n",
       "  }\n",
       "</style><div class='table-result-container'><table class='table-result'><thead style='background-color: white'><tr><th>num_affected_rows</th><th>num_inserted_rows</th></tr></thead><tbody><tr><td>12</td><td>12</td></tr></tbody></table></div>"
      ]
     },
     "metadata": {
      "application/vnd.databricks.v1+output": {
       "addedWidgets": {},
       "aggData": [],
       "aggError": "",
       "aggOverflow": false,
       "aggSchema": [],
       "aggSeriesLimitReached": false,
       "aggType": "",
       "arguments": {},
       "columnCustomDisplayInfos": {},
       "data": [
        [
         12,
         12
        ]
       ],
       "datasetInfos": [],
       "dbfsResultPath": null,
       "isJsonSchema": true,
       "metadata": {
        "isDbfsCommandResult": false
       },
       "overflow": false,
       "plotOptions": {
        "customPlotOptions": {},
        "displayType": "table",
        "pivotAggregation": null,
        "pivotColumns": null,
        "xColumns": null,
        "yColumns": null
       },
       "removedWidgets": [],
       "schema": [
        {
         "metadata": "{}",
         "name": "num_affected_rows",
         "type": "\"long\""
        },
        {
         "metadata": "{}",
         "name": "num_inserted_rows",
         "type": "\"long\""
        }
       ],
       "type": "table"
      }
     },
     "output_type": "display_data"
    }
   ],
   "source": [
    "%sql\n",
    "--Inserting all the records into customer cleaned ...\n",
    "INSERT INTO dev.silver_db.customers(customer_id, customer_name)\n",
    "SELECT customer_id, customer_name\n",
    "FROM dev.silver_db.customer_cleaned WHERE date(load_time)=date(current_timestamp())"
   ]
  },
  {
   "cell_type": "code",
   "execution_count": 0,
   "metadata": {
    "application/vnd.databricks.v1+cell": {
     "cellMetadata": {
      "byteLimit": 2048000,
      "rowLimit": 10000
     },
     "inputWidgets": {},
     "nuid": "2c128d4d-9f5f-4ce6-adac-b5eeccd9df50",
     "showTitle": false,
     "title": ""
    }
   },
   "outputs": [
    {
     "output_type": "display_data",
     "data": {
      "text/html": [
       "<style scoped>\n",
       "  .table-result-container {\n",
       "    max-height: 300px;\n",
       "    overflow: auto;\n",
       "  }\n",
       "  table, th, td {\n",
       "    border: 1px solid black;\n",
       "    border-collapse: collapse;\n",
       "  }\n",
       "  th, td {\n",
       "    padding: 5px;\n",
       "  }\n",
       "  th {\n",
       "    text-align: left;\n",
       "  }\n",
       "</style><div class='table-result-container'><table class='table-result'><thead style='background-color: white'><tr><th>num_affected_rows</th><th>num_inserted_rows</th></tr></thead><tbody><tr><td>250</td><td>250</td></tr></tbody></table></div>"
      ]
     },
     "metadata": {
      "application/vnd.databricks.v1+output": {
       "addedWidgets": {},
       "aggData": [],
       "aggError": "",
       "aggOverflow": false,
       "aggSchema": [],
       "aggSeriesLimitReached": false,
       "aggType": "",
       "arguments": {},
       "columnCustomDisplayInfos": {},
       "data": [
        [
         250,
         250
        ]
       ],
       "datasetInfos": [],
       "dbfsResultPath": null,
       "isJsonSchema": true,
       "metadata": {
        "isDbfsCommandResult": false
       },
       "overflow": false,
       "plotOptions": {
        "customPlotOptions": {},
        "displayType": "table",
        "pivotAggregation": null,
        "pivotColumns": null,
        "xColumns": null,
        "yColumns": null
       },
       "removedWidgets": [],
       "schema": [
        {
         "metadata": "{}",
         "name": "num_affected_rows",
         "type": "\"long\""
        },
        {
         "metadata": "{}",
         "name": "num_inserted_rows",
         "type": "\"long\""
        }
       ],
       "type": "table"
      }
     },
     "output_type": "display_data"
    }
   ],
   "source": [
    "%sql\n",
    "-- Performing CDC for the invoices \n",
    "-- Remove the duplicates also...\n",
    "INSERT INTO dev.silver_db.invoices\n",
    "SELECT invoice_no, stock_code, description, quantity, invoice_date, unit_price, customer_id, country, current_timestamp() as load_time\n",
    "FROM dev.silver_db.invoice_cleaned\n",
    "WHERE date(load_time)=date(current_timestamp())\n",
    "group by invoice_no, stock_code, description, quantity, invoice_date, unit_price, customer_id, country\n",
    "\n"
   ]
  },
  {
   "cell_type": "markdown",
   "metadata": {
    "application/vnd.databricks.v1+cell": {
     "cellMetadata": {},
     "inputWidgets": {},
     "nuid": "aa2bffdd-b796-4c49-9c35-308ecda28a3f",
     "showTitle": false,
     "title": ""
    }
   },
   "source": [
    "#### Now In the Gold Layer, we will be making our views..."
   ]
  },
  {
   "cell_type": "code",
   "execution_count": 0,
   "metadata": {
    "application/vnd.databricks.v1+cell": {
     "cellMetadata": {
      "byteLimit": 2048000,
      "rowLimit": 10000
     },
     "inputWidgets": {},
     "nuid": "953628da-b29d-42ff-8008-81e74e99c601",
     "showTitle": false,
     "title": ""
    }
   },
   "outputs": [
    {
     "output_type": "display_data",
     "data": {
      "text/html": [
       "<style scoped>\n",
       "  .table-result-container {\n",
       "    max-height: 300px;\n",
       "    overflow: auto;\n",
       "  }\n",
       "  table, th, td {\n",
       "    border: 1px solid black;\n",
       "    border-collapse: collapse;\n",
       "  }\n",
       "  th, td {\n",
       "    padding: 5px;\n",
       "  }\n",
       "  th {\n",
       "    text-align: left;\n",
       "  }\n",
       "</style><div class='table-result-container'><table class='table-result'><thead style='background-color: white'><tr></tr></thead><tbody></tbody></table></div>"
      ]
     },
     "metadata": {
      "application/vnd.databricks.v1+output": {
       "addedWidgets": {},
       "aggData": [],
       "aggError": "",
       "aggOverflow": false,
       "aggSchema": [],
       "aggSeriesLimitReached": false,
       "aggType": "",
       "arguments": {},
       "columnCustomDisplayInfos": {},
       "data": [],
       "datasetInfos": [],
       "dbfsResultPath": null,
       "isJsonSchema": true,
       "metadata": {
        "isDbfsCommandResult": false
       },
       "overflow": false,
       "plotOptions": {
        "customPlotOptions": {},
        "displayType": "table",
        "pivotAggregation": null,
        "pivotColumns": null,
        "xColumns": null,
        "yColumns": null
       },
       "removedWidgets": [],
       "schema": [],
       "type": "table"
      }
     },
     "output_type": "display_data"
    }
   ],
   "source": [
    "%sql\n",
    "CREATE VIEW IF NOT EXISTS dev.gold_db.country_yearly_sales\n",
    "AS \n",
    "SELECT \n",
    "    year(invoice_date) AS sale_year,\n",
    "    country,\n",
    "    SUM(quantity * unit_price) AS yearly_sales\n",
    "FROM dev.silver_db.invoices\n",
    "GROUP BY year(invoice_date), country"
   ]
  },
  {
   "cell_type": "code",
   "execution_count": 0,
   "metadata": {
    "application/vnd.databricks.v1+cell": {
     "cellMetadata": {
      "byteLimit": 2048000,
      "rowLimit": 10000
     },
     "inputWidgets": {},
     "nuid": "1a2c105b-da37-4524-82ad-92066370e29c",
     "showTitle": false,
     "title": ""
    }
   },
   "outputs": [
    {
     "output_type": "display_data",
     "data": {
      "text/html": [
       "<style scoped>\n",
       "  .table-result-container {\n",
       "    max-height: 300px;\n",
       "    overflow: auto;\n",
       "  }\n",
       "  table, th, td {\n",
       "    border: 1px solid black;\n",
       "    border-collapse: collapse;\n",
       "  }\n",
       "  th, td {\n",
       "    padding: 5px;\n",
       "  }\n",
       "  th {\n",
       "    text-align: left;\n",
       "  }\n",
       "</style><div class='table-result-container'><table class='table-result'><thead style='background-color: white'><tr><th>sale_year</th><th>country</th><th>yearly_sales</th></tr></thead><tbody><tr><td>2021</td><td>Australia</td><td>358.25</td></tr><tr><td>2021</td><td>France</td><td>801.86</td></tr><tr><td>2021</td><td>United Kingdom</td><td>11090.80000000001</td></tr><tr><td>2022</td><td>United Kingdom</td><td>3532.7200000000007</td></tr></tbody></table></div>"
      ]
     },
     "metadata": {
      "application/vnd.databricks.v1+output": {
       "addedWidgets": {},
       "aggData": [],
       "aggError": "",
       "aggOverflow": false,
       "aggSchema": [],
       "aggSeriesLimitReached": false,
       "aggType": "",
       "arguments": {},
       "columnCustomDisplayInfos": {},
       "data": [
        [
         2021,
         "Australia",
         358.25
        ],
        [
         2021,
         "France",
         801.86
        ],
        [
         2021,
         "United Kingdom",
         11090.80000000001
        ],
        [
         2022,
         "United Kingdom",
         3532.7200000000007
        ]
       ],
       "datasetInfos": [],
       "dbfsResultPath": null,
       "isJsonSchema": true,
       "metadata": {
        "isDbfsCommandResult": false
       },
       "overflow": false,
       "plotOptions": {
        "customPlotOptions": {},
        "displayType": "table",
        "pivotAggregation": null,
        "pivotColumns": null,
        "xColumns": null,
        "yColumns": null
       },
       "removedWidgets": [],
       "schema": [
        {
         "metadata": "{}",
         "name": "sale_year",
         "type": "\"integer\""
        },
        {
         "metadata": "{}",
         "name": "country",
         "type": "\"string\""
        },
        {
         "metadata": "{}",
         "name": "yearly_sales",
         "type": "\"double\""
        }
       ],
       "type": "table"
      }
     },
     "output_type": "display_data"
    }
   ],
   "source": [
    "%sql\n",
    "select *\n",
    "from dev.gold_db.country_yearly_sales"
   ]
  },
  {
   "cell_type": "code",
   "execution_count": 0,
   "metadata": {
    "application/vnd.databricks.v1+cell": {
     "cellMetadata": {},
     "inputWidgets": {},
     "nuid": "6a38de1d-78bf-4cc6-80b9-7894e06dd289",
     "showTitle": false,
     "title": ""
    }
   },
   "outputs": [],
   "source": []
  }
 ],
 "metadata": {
  "application/vnd.databricks.v1+notebook": {
   "dashboards": [],
   "language": "python",
   "notebookMetadata": {
    "pythonIndentUnit": 4
   },
   "notebookName": "lakehouse_medallion_tables_data_insertion",
   "widgets": {}
  }
 },
 "nbformat": 4,
 "nbformat_minor": 0
}
